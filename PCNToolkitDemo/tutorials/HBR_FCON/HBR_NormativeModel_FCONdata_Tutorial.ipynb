{
  "cells": [
    {
      "cell_type": "markdown",
      "source": [
        "[![Open In Colab](https://colab.research.google.com/assets/colab-badge.svg)](https://colab.research.google.com/github/Andjelaaaa/dimitrijevic_project/blob/main/PCNToolkitDemo/tutorials/HBR_FCON/HBR_NormativeModel_FCONdata_Tutorial.ipynb)"
      ],
      "metadata": {
        "id": "P_XDdY6Br9Yh"
      }
    },
    {
      "cell_type": "markdown",
      "metadata": {
        "id": "4GrH5Af4381L"
      },
      "source": [
        "# [Predictive Clinical Neuroscience Toolkit](https://github.com/amarquand/PCNtoolkit) \n",
        "# Hierarchical Bayesian Regression Normative Modelling and Transfer onto unseen site.\n",
        "\n",
        "This notebook will go through basic data preparation (training and testing set, [see Saige's tutorial](https://github.com/predictive-clinical-neuroscience/PCNtoolkit-demo/blob/main/tutorials/BLR_protocol/BLR_normativemodel_protocol.ipynb) on Normative Modelling for more detail), the actual training of the models, and will finally describe how to transfer the trained models onto unseen sites. "
      ]
    },
    {
      "cell_type": "markdown",
      "metadata": {
        "id": "fkYKxCSo381O"
      },
      "source": [
        "### Created by [Saige Rutherford](https://twitter.com/being_saige) \n",
        "### adapted/edited by Andre Marquand and Pierre Berthet"
      ]
    },
    {
      "cell_type": "markdown",
      "metadata": {
        "id": "ptugU56E381P"
      },
      "source": [
        "<div>\n",
        "<img src=\"https://github.com/predictive-clinical-neuroscience/PCNtoolkit-demo/blob/main/data/NormModelSetup.png?raw=1\" width=\"500\"/>\n",
        "</div>"
      ]
    },
    {
      "cell_type": "markdown",
      "metadata": {
        "id": "yjRPC3Qq381P"
      },
      "source": [
        "## Step 0: Install necessary libraries & grab data files"
      ]
    },
    {
      "cell_type": "code",
      "execution_count": 1,
      "metadata": {
        "id": "keSW6cuX381P",
        "colab": {
          "base_uri": "https://localhost:8080/",
          "height": 1000
        },
        "outputId": "75956486-e463-4a48-f2fd-75b405b6e131"
      },
      "outputs": [
        {
          "output_type": "stream",
          "name": "stdout",
          "text": [
            "Found existing installation: Theano-PyMC 1.1.2\n",
            "Uninstalling Theano-PyMC-1.1.2:\n",
            "  Successfully uninstalled Theano-PyMC-1.1.2\n",
            "Looking in indexes: https://pypi.org/simple, https://us-python.pkg.dev/colab-wheels/public/simple/\n",
            "Collecting pcntoolkit==0.22\n",
            "  Downloading pcntoolkit-0.22.tar.gz (79 kB)\n",
            "\u001b[K     |████████████████████████████████| 79 kB 3.8 MB/s \n",
            "\u001b[?25hCollecting argparse\n",
            "  Downloading argparse-1.4.0-py2.py3-none-any.whl (23 kB)\n",
            "Requirement already satisfied: nibabel>=2.5.1 in /usr/local/lib/python3.7/dist-packages (from pcntoolkit==0.22) (3.0.2)\n",
            "Requirement already satisfied: six in /usr/local/lib/python3.7/dist-packages (from pcntoolkit==0.22) (1.15.0)\n",
            "Requirement already satisfied: sklearn in /usr/local/lib/python3.7/dist-packages (from pcntoolkit==0.22) (0.0)\n",
            "Collecting bspline\n",
            "  Downloading bspline-0.1.1.tar.gz (84 kB)\n",
            "\u001b[K     |████████████████████████████████| 84 kB 1.1 MB/s \n",
            "\u001b[?25hRequirement already satisfied: matplotlib in /usr/local/lib/python3.7/dist-packages (from pcntoolkit==0.22) (3.2.2)\n",
            "Requirement already satisfied: numpy>=1.19.5 in /usr/local/lib/python3.7/dist-packages (from pcntoolkit==0.22) (1.21.6)\n",
            "Requirement already satisfied: scipy>=1.3.2 in /usr/local/lib/python3.7/dist-packages (from pcntoolkit==0.22) (1.7.3)\n",
            "Requirement already satisfied: pandas>=0.25.3 in /usr/local/lib/python3.7/dist-packages (from pcntoolkit==0.22) (1.3.5)\n",
            "Requirement already satisfied: torch>=1.1.0 in /usr/local/lib/python3.7/dist-packages (from pcntoolkit==0.22) (1.12.0+cu113)\n",
            "Collecting sphinx-tabs\n",
            "  Downloading sphinx_tabs-3.4.1-py3-none-any.whl (10.0 kB)\n",
            "Collecting pymc3<=3.9.3,>=3.8\n",
            "  Downloading pymc3-3.9.3-py3-none-any.whl (1.9 MB)\n",
            "\u001b[K     |████████████████████████████████| 1.9 MB 49.4 MB/s \n",
            "\u001b[?25hCollecting theano==1.0.5\n",
            "  Downloading Theano-1.0.5.tar.gz (2.8 MB)\n",
            "\u001b[K     |████████████████████████████████| 2.8 MB 41.5 MB/s \n",
            "\u001b[?25hCollecting arviz==0.11.0\n",
            "  Downloading arviz-0.11.0-py3-none-any.whl (1.5 MB)\n",
            "\u001b[K     |████████████████████████████████| 1.5 MB 33.2 MB/s \n",
            "\u001b[?25hCollecting typing-extensions<4,>=3.7.4.3\n",
            "  Downloading typing_extensions-3.10.0.2-py3-none-any.whl (26 kB)\n",
            "Requirement already satisfied: netcdf4 in /usr/local/lib/python3.7/dist-packages (from arviz==0.11.0->pcntoolkit==0.22) (1.6.0)\n",
            "Requirement already satisfied: setuptools>=38.4 in /usr/local/lib/python3.7/dist-packages (from arviz==0.11.0->pcntoolkit==0.22) (57.4.0)\n",
            "Requirement already satisfied: xarray>=0.16.1 in /usr/local/lib/python3.7/dist-packages (from arviz==0.11.0->pcntoolkit==0.22) (0.20.2)\n",
            "Requirement already satisfied: packaging in /usr/local/lib/python3.7/dist-packages (from arviz==0.11.0->pcntoolkit==0.22) (21.3)\n",
            "Requirement already satisfied: pyparsing!=2.0.4,!=2.1.2,!=2.1.6,>=2.0.1 in /usr/local/lib/python3.7/dist-packages (from matplotlib->pcntoolkit==0.22) (3.0.9)\n",
            "Requirement already satisfied: kiwisolver>=1.0.1 in /usr/local/lib/python3.7/dist-packages (from matplotlib->pcntoolkit==0.22) (1.4.4)\n",
            "Requirement already satisfied: python-dateutil>=2.1 in /usr/local/lib/python3.7/dist-packages (from matplotlib->pcntoolkit==0.22) (2.8.2)\n",
            "Requirement already satisfied: cycler>=0.10 in /usr/local/lib/python3.7/dist-packages (from matplotlib->pcntoolkit==0.22) (0.11.0)\n",
            "Requirement already satisfied: pytz>=2017.3 in /usr/local/lib/python3.7/dist-packages (from pandas>=0.25.3->pcntoolkit==0.22) (2022.1)\n",
            "Requirement already satisfied: h5py>=2.7.0 in /usr/local/lib/python3.7/dist-packages (from pymc3<=3.9.3,>=3.8->pcntoolkit==0.22) (3.1.0)\n",
            "Requirement already satisfied: fastprogress>=0.2.0 in /usr/local/lib/python3.7/dist-packages (from pymc3<=3.9.3,>=3.8->pcntoolkit==0.22) (1.0.2)\n",
            "Requirement already satisfied: patsy>=0.5.1 in /usr/local/lib/python3.7/dist-packages (from pymc3<=3.9.3,>=3.8->pcntoolkit==0.22) (0.5.2)\n",
            "Requirement already satisfied: cached-property in /usr/local/lib/python3.7/dist-packages (from h5py>=2.7.0->pymc3<=3.9.3,>=3.8->pcntoolkit==0.22) (1.5.2)\n",
            "Requirement already satisfied: importlib-metadata in /usr/local/lib/python3.7/dist-packages (from xarray>=0.16.1->arviz==0.11.0->pcntoolkit==0.22) (4.12.0)\n",
            "Requirement already satisfied: zipp>=0.5 in /usr/local/lib/python3.7/dist-packages (from importlib-metadata->xarray>=0.16.1->arviz==0.11.0->pcntoolkit==0.22) (3.8.1)\n",
            "Requirement already satisfied: cftime in /usr/local/lib/python3.7/dist-packages (from netcdf4->arviz==0.11.0->pcntoolkit==0.22) (1.6.1)\n",
            "Requirement already satisfied: scikit-learn in /usr/local/lib/python3.7/dist-packages (from sklearn->pcntoolkit==0.22) (1.0.2)\n",
            "Requirement already satisfied: joblib>=0.11 in /usr/local/lib/python3.7/dist-packages (from scikit-learn->sklearn->pcntoolkit==0.22) (1.1.0)\n",
            "Requirement already satisfied: threadpoolctl>=2.0.0 in /usr/local/lib/python3.7/dist-packages (from scikit-learn->sklearn->pcntoolkit==0.22) (3.1.0)\n",
            "Requirement already satisfied: sphinx in /usr/local/lib/python3.7/dist-packages (from sphinx-tabs->pcntoolkit==0.22) (1.8.6)\n",
            "Collecting docutils~=0.18.0\n",
            "  Downloading docutils-0.18.1-py2.py3-none-any.whl (570 kB)\n",
            "\u001b[K     |████████████████████████████████| 570 kB 39.1 MB/s \n",
            "\u001b[?25hRequirement already satisfied: pygments in /usr/local/lib/python3.7/dist-packages (from sphinx-tabs->pcntoolkit==0.22) (2.6.1)\n",
            "Requirement already satisfied: sphinxcontrib-websupport in /usr/local/lib/python3.7/dist-packages (from sphinx->sphinx-tabs->pcntoolkit==0.22) (1.2.4)\n",
            "Requirement already satisfied: Jinja2>=2.3 in /usr/local/lib/python3.7/dist-packages (from sphinx->sphinx-tabs->pcntoolkit==0.22) (2.11.3)\n",
            "Requirement already satisfied: babel!=2.0,>=1.3 in /usr/local/lib/python3.7/dist-packages (from sphinx->sphinx-tabs->pcntoolkit==0.22) (2.10.3)\n",
            "Collecting sphinx\n",
            "  Downloading Sphinx-5.0.2-py3-none-any.whl (3.1 MB)\n",
            "\u001b[K     |████████████████████████████████| 3.1 MB 29.5 MB/s \n",
            "\u001b[?25hRequirement already satisfied: requests>=2.5.0 in /usr/local/lib/python3.7/dist-packages (from sphinx->sphinx-tabs->pcntoolkit==0.22) (2.23.0)\n",
            "Collecting sphinxcontrib-jsmath\n",
            "  Downloading sphinxcontrib_jsmath-1.0.1-py2.py3-none-any.whl (5.1 kB)\n",
            "Collecting sphinxcontrib-applehelp\n",
            "  Downloading sphinxcontrib_applehelp-1.0.2-py2.py3-none-any.whl (121 kB)\n",
            "\u001b[K     |████████████████████████████████| 121 kB 53.3 MB/s \n",
            "\u001b[?25hRequirement already satisfied: sphinxcontrib-serializinghtml>=1.1.5 in /usr/local/lib/python3.7/dist-packages (from sphinx->sphinx-tabs->pcntoolkit==0.22) (1.1.5)\n",
            "Collecting sphinxcontrib-devhelp\n",
            "  Downloading sphinxcontrib_devhelp-1.0.2-py2.py3-none-any.whl (84 kB)\n",
            "\u001b[K     |████████████████████████████████| 84 kB 3.2 MB/s \n",
            "\u001b[?25hCollecting sphinxcontrib-qthelp\n",
            "  Downloading sphinxcontrib_qthelp-1.0.3-py2.py3-none-any.whl (90 kB)\n",
            "\u001b[K     |████████████████████████████████| 90 kB 5.8 MB/s \n",
            "\u001b[?25hRequirement already satisfied: snowballstemmer>=1.1 in /usr/local/lib/python3.7/dist-packages (from sphinx->sphinx-tabs->pcntoolkit==0.22) (2.2.0)\n",
            "Requirement already satisfied: alabaster<0.8,>=0.7 in /usr/local/lib/python3.7/dist-packages (from sphinx->sphinx-tabs->pcntoolkit==0.22) (0.7.12)\n",
            "Requirement already satisfied: imagesize in /usr/local/lib/python3.7/dist-packages (from sphinx->sphinx-tabs->pcntoolkit==0.22) (1.4.1)\n",
            "Collecting sphinxcontrib-htmlhelp>=2.0.0\n",
            "  Downloading sphinxcontrib_htmlhelp-2.0.0-py2.py3-none-any.whl (100 kB)\n",
            "\u001b[K     |████████████████████████████████| 100 kB 4.8 MB/s \n",
            "\u001b[?25hRequirement already satisfied: MarkupSafe>=0.23 in /usr/local/lib/python3.7/dist-packages (from Jinja2>=2.3->sphinx->sphinx-tabs->pcntoolkit==0.22) (2.0.1)\n",
            "Requirement already satisfied: idna<3,>=2.5 in /usr/local/lib/python3.7/dist-packages (from requests>=2.5.0->sphinx->sphinx-tabs->pcntoolkit==0.22) (2.10)\n",
            "Requirement already satisfied: chardet<4,>=3.0.2 in /usr/local/lib/python3.7/dist-packages (from requests>=2.5.0->sphinx->sphinx-tabs->pcntoolkit==0.22) (3.0.4)\n",
            "Requirement already satisfied: certifi>=2017.4.17 in /usr/local/lib/python3.7/dist-packages (from requests>=2.5.0->sphinx->sphinx-tabs->pcntoolkit==0.22) (2022.6.15)\n",
            "Requirement already satisfied: urllib3!=1.25.0,!=1.25.1,<1.26,>=1.21.1 in /usr/local/lib/python3.7/dist-packages (from requests>=2.5.0->sphinx->sphinx-tabs->pcntoolkit==0.22) (1.24.3)\n",
            "Building wheels for collected packages: pcntoolkit, theano, bspline\n",
            "  Building wheel for pcntoolkit (setup.py) ... \u001b[?25l\u001b[?25hdone\n",
            "  Created wheel for pcntoolkit: filename=pcntoolkit-0.22-py3-none-any.whl size=89426 sha256=99b8087edfb2e43b1f7af48099391bb5c9dcaef8dc0df4400ea9fd1076329666\n",
            "  Stored in directory: /root/.cache/pip/wheels/a3/1e/3a/9ed0ead268039fb260d6123815c78d02410683d6202f03c63f\n",
            "  Building wheel for theano (setup.py) ... \u001b[?25l\u001b[?25hdone\n",
            "  Created wheel for theano: filename=Theano-1.0.5-py3-none-any.whl size=2668111 sha256=72bd5d4f6d4d21b6bf44b7f0d0cf7762d9bbb8662009d59d4fc2205131bc1ccb\n",
            "  Stored in directory: /root/.cache/pip/wheels/26/68/6f/745330367ce7822fe0cd863712858151f5723a0a5e322cc144\n",
            "  Building wheel for bspline (setup.py) ... \u001b[?25l\u001b[?25hdone\n",
            "  Created wheel for bspline: filename=bspline-0.1.1-py3-none-any.whl size=84482 sha256=3a8a4c896a0e13505c05e14e6d0251c3771ae765567e4d7ec48f6816a207a7d1\n",
            "  Stored in directory: /root/.cache/pip/wheels/30/2b/2f/0548a7e0586b299e870f53dd6a4e3042ce3387e8579b58b8c2\n",
            "Successfully built pcntoolkit theano bspline\n",
            "Installing collected packages: typing-extensions, sphinxcontrib-qthelp, sphinxcontrib-jsmath, sphinxcontrib-htmlhelp, sphinxcontrib-devhelp, sphinxcontrib-applehelp, docutils, theano, sphinx, arviz, sphinx-tabs, pymc3, bspline, argparse, pcntoolkit\n",
            "  Attempting uninstall: typing-extensions\n",
            "    Found existing installation: typing-extensions 4.1.1\n",
            "    Uninstalling typing-extensions-4.1.1:\n",
            "      Successfully uninstalled typing-extensions-4.1.1\n",
            "  Attempting uninstall: docutils\n",
            "    Found existing installation: docutils 0.17.1\n",
            "    Uninstalling docutils-0.17.1:\n",
            "      Successfully uninstalled docutils-0.17.1\n",
            "  Attempting uninstall: sphinx\n",
            "    Found existing installation: Sphinx 1.8.6\n",
            "    Uninstalling Sphinx-1.8.6:\n",
            "      Successfully uninstalled Sphinx-1.8.6\n",
            "  Attempting uninstall: arviz\n",
            "    Found existing installation: arviz 0.12.1\n",
            "    Uninstalling arviz-0.12.1:\n",
            "      Successfully uninstalled arviz-0.12.1\n",
            "  Attempting uninstall: pymc3\n",
            "    Found existing installation: pymc3 3.11.5\n",
            "    Uninstalling pymc3-3.11.5:\n",
            "      Successfully uninstalled pymc3-3.11.5\n",
            "\u001b[31mERROR: pip's dependency resolver does not currently take into account all the packages that are installed. This behaviour is the source of the following dependency conflicts.\n",
            "datascience 0.10.6 requires folium==0.2.1, but you have folium 0.8.3 which is incompatible.\u001b[0m\n",
            "Successfully installed argparse-1.4.0 arviz-0.11.0 bspline-0.1.1 docutils-0.18.1 pcntoolkit-0.22 pymc3-3.9.3 sphinx-5.0.2 sphinx-tabs-3.4.1 sphinxcontrib-applehelp-1.0.2 sphinxcontrib-devhelp-1.0.2 sphinxcontrib-htmlhelp-2.0.0 sphinxcontrib-jsmath-1.0.1 sphinxcontrib-qthelp-1.0.3 theano-1.0.5 typing-extensions-3.10.0.2\n"
          ]
        },
        {
          "output_type": "display_data",
          "data": {
            "application/vnd.colab-display-data+json": {
              "pip_warning": {
                "packages": [
                  "argparse",
                  "sphinxcontrib",
                  "typing_extensions"
                ]
              }
            }
          },
          "metadata": {}
        }
      ],
      "source": [
        "! pip uninstall -y Theano-PyMC  # conflicts with Theano on some environments\n",
        "! pip install pcntoolkit==0.22"
      ]
    },
    {
      "cell_type": "markdown",
      "metadata": {
        "id": "XnQzHXgT381Q"
      },
      "source": [
        "For this tutorial we will use data from the [Functional Connectom Project FCON1000](http://fcon_1000.projects.nitrc.org/) to create a multi-site dataset. \n",
        "\n",
        "The dataset contains some cortical measures (eg thickness), processed by Freesurfer 6.0, and some covariates (eg age, site, gender).\n",
        "\n",
        "First we import the required package, and create a working directory."
      ]
    },
    {
      "cell_type": "code",
      "execution_count": 1,
      "metadata": {
        "id": "CBjOrufm381R"
      },
      "outputs": [],
      "source": [
        "import os\n",
        "import pandas as pd\n",
        "import pcntoolkit as ptk\n",
        "import numpy as np\n",
        "import pickle\n",
        "from matplotlib import pyplot as plt"
      ]
    },
    {
      "cell_type": "code",
      "execution_count": 2,
      "metadata": {
        "id": "YklC6BFp381S"
      },
      "outputs": [],
      "source": [
        "processing_dir = \"HBR_demo/\"    # replace with a path to your working directory\n",
        "if not os.path.isdir(processing_dir):\n",
        "    os.makedirs(processing_dir)\n",
        "os.chdir(processing_dir)\n",
        "processing_dir = os.getcwd()"
      ]
    },
    {
      "cell_type": "markdown",
      "metadata": {
        "id": "zcNvTEhT381S"
      },
      "source": [
        "#### Overview\n",
        "Here we get the FCON dataset, remove the ICBM site for later transfer, assign some site id to the different scanner sites and print an overview of the left hemisphere mean raw cortical thickness as a function of age, color coded by the various sites:\n"
      ]
    },
    {
      "cell_type": "code",
      "execution_count": 3,
      "metadata": {
        "colab": {
          "base_uri": "https://localhost:8080/",
          "height": 1000
        },
        "id": "XibIZLaT381T",
        "outputId": "6fd5a282-7859-43eb-d48a-d17c5e730290",
        "scrolled": true
      },
      "outputs": [
        {
          "output_type": "stream",
          "name": "stdout",
          "text": [
            "site AnnArbor_a 24\n",
            "site AnnArbor_b 32\n",
            "site Atlanta 28\n",
            "site Baltimore 23\n",
            "site Bangor 20\n",
            "site Beijing_Zang 198\n",
            "site Berlin_Margulies 26\n",
            "site Cambridge_Buckner 198\n",
            "site Cleveland 31\n",
            "site Leiden_2180 12\n",
            "site Leiden_2200 19\n",
            "site Milwaukee_b 46\n",
            "site Munchen 15\n",
            "site NewYork_a 83\n",
            "site NewYork_a_ADHD 25\n",
            "site Newark 19\n",
            "site Oulu 102\n",
            "site Oxford 22\n",
            "site PaloAlto 17\n",
            "site Pittsburgh 3\n",
            "site Queensland 19\n",
            "site SaintLouis 31\n"
          ]
        },
        {
          "output_type": "stream",
          "name": "stderr",
          "text": [
            "/usr/local/lib/python3.7/dist-packages/ipykernel_launcher.py:4: SettingWithCopyWarning: \n",
            "A value is trying to be set on a copy of a slice from a DataFrame.\n",
            "Try using .loc[row_indexer,col_indexer] = value instead\n",
            "\n",
            "See the caveats in the documentation: https://pandas.pydata.org/pandas-docs/stable/user_guide/indexing.html#returning-a-view-versus-a-copy\n",
            "  after removing the cwd from sys.path.\n",
            "/usr/local/lib/python3.7/dist-packages/pandas/core/indexing.py:1732: SettingWithCopyWarning: \n",
            "A value is trying to be set on a copy of a slice from a DataFrame\n",
            "\n",
            "See the caveats in the documentation: https://pandas.pydata.org/pandas-docs/stable/user_guide/indexing.html#returning-a-view-versus-a-copy\n",
            "  self._setitem_single_block(indexer, value, name)\n"
          ]
        },
        {
          "output_type": "execute_result",
          "data": {
            "text/plain": [
              "Text(0.5, 0, 'age')"
            ]
          },
          "metadata": {},
          "execution_count": 3
        },
        {
          "output_type": "display_data",
          "data": {
            "text/plain": [
              "<Figure size 864x864 with 1 Axes>"
            ],
            "image/png": "[encoded data removed]"
          },
          "metadata": {
            "needs_background": "light"
          }
        }
      ],
      "source": [
        "fcon = pd.read_csv('https://raw.githubusercontent.com/predictive-clinical-neuroscience/PCNtoolkit-demo/main/data/fcon1000.csv')\n",
        "\n",
        "icbm = fcon.loc[fcon['site'] == 'ICBM']\n",
        "icbm['sitenum'] = 0\n",
        "fcon = fcon.loc[fcon['site'] != 'ICBM']\n",
        "\n",
        "sites = fcon['site'].unique()\n",
        "fcon['sitenum'] = 0\n",
        "\n",
        "f, ax = plt.subplots(figsize=(12, 12))\n",
        "\n",
        "for i,s in enumerate(sites):\n",
        "    idx = fcon['site'] == s\n",
        "    fcon['sitenum'].loc[idx] = i\n",
        "    \n",
        "    print('site',s, sum(idx))\n",
        "    ax.scatter(fcon['age'].loc[idx], fcon['lh_MeanThickness_thickness'].loc[idx])\n",
        "    \n",
        "ax.legend(sites)\n",
        "ax.set_ylabel('LH mean cortical thickness [mm]')\n",
        "ax.set_xlabel('age')\n"
      ]
    },
    {
      "cell_type": "markdown",
      "metadata": {
        "id": "R41KrcwG381U"
      },
      "source": [
        "## Step 1: Prepare training and testing sets"
      ]
    },
    {
      "cell_type": "markdown",
      "metadata": {
        "id": "FNF8I4_S381U"
      },
      "source": [
        "Then we randomly split half of the samples (participants) to be either in the training or in the testing samples. We do this for the remaing FCON dataset and for the ICBM data. The transfer function will also require a training and a test sample. \n",
        "\n",
        "The numbers of samples per sites used for training and for testing are then displayed."
      ]
    },
    {
      "cell_type": "code",
      "execution_count": 4,
      "metadata": {
        "colab": {
          "base_uri": "https://localhost:8080/"
        },
        "id": "txJK1fHt381V",
        "outputId": "d6b008e7-c97f-4a07-b783-7afb9db9f453"
      },
      "outputs": [
        {
          "output_type": "stream",
          "name": "stdout",
          "text": [
            "sample size check\n",
            "0 AnnArbor_a 12 12\n",
            "1 AnnArbor_b 11 21\n",
            "2 Atlanta 16 12\n",
            "3 Baltimore 10 13\n",
            "4 Bangor 9 11\n",
            "5 Beijing_Zang 87 111\n",
            "6 Berlin_Margulies 16 10\n",
            "7 Cambridge_Buckner 95 103\n",
            "8 Cleveland 17 14\n",
            "9 Leiden_2180 7 5\n",
            "10 Leiden_2200 13 6\n",
            "11 Milwaukee_b 23 23\n",
            "12 Munchen 5 10\n",
            "13 NewYork_a 38 45\n",
            "14 NewYork_a_ADHD 11 14\n",
            "15 Newark 10 9\n",
            "16 Oulu 54 48\n",
            "17 Oxford 8 14\n",
            "18 PaloAlto 11 6\n",
            "19 Pittsburgh 2 1\n",
            "20 Queensland 14 5\n",
            "21 SaintLouis 16 15\n"
          ]
        }
      ],
      "source": [
        "tr = np.random.uniform(size=fcon.shape[0]) > 0.5\n",
        "te = ~tr\n",
        "    \n",
        "fcon_tr = fcon.loc[tr]\n",
        "fcon_te = fcon.loc[te]\n",
        "    \n",
        "tr = np.random.uniform(size=icbm.shape[0]) > 0.5\n",
        "te = ~tr\n",
        "    \n",
        "icbm_tr = icbm.loc[tr]\n",
        "icbm_te = icbm.loc[te]\n",
        "    \n",
        "print('sample size check')\n",
        "for i,s in enumerate(sites):\n",
        "    idx = fcon_tr['site'] == s\n",
        "    idxte = fcon_te['site'] == s\n",
        "    print(i,s, sum(idx), sum(idxte))\n",
        "    \n",
        "fcon_tr.to_csv(processing_dir + '/fcon1000_tr.csv')\n",
        "fcon_te.to_csv(processing_dir + '/fcon1000_te.csv')\n",
        "icbm_tr.to_csv(processing_dir + '/fcon1000_icbm_tr.csv')\n",
        "icbm_te.to_csv(processing_dir + '/fcon1000_icbm_te.csv')"
      ]
    },
    {
      "cell_type": "markdown",
      "metadata": {
        "id": "QlTN6JAW381V"
      },
      "source": [
        "Otherwise you can just load these pre defined subsets:"
      ]
    },
    {
      "cell_type": "code",
      "execution_count": null,
      "metadata": {
        "id": "uXBxuLK7381V"
      },
      "outputs": [],
      "source": [
        "# Optional\n",
        "#fcon_tr = pd.read_csv('https://raw.githubusercontent.com/predictive-clinical-neuroscience/PCNtoolkit-demo/main/data/fcon1000_tr.csv')\n",
        "#fcon_te = pd.read_csv('https://raw.githubusercontent.com/predictive-clinical-neuroscience/PCNtoolkit-demo/main/data/fcon1000_te.csv')\n",
        "#icbm_tr = pd.read_csv('https://raw.githubusercontent.com/predictive-clinical-neuroscience/PCNtoolkit-demo/main/data/fcon1000_icbm_tr.csv')\n",
        "#icbm_te = pd.read_csv('https://raw.githubusercontent.com/predictive-clinical-neuroscience/PCNtoolkit-demo/main/data/fcon1000_icbm_te.csv')"
      ]
    },
    {
      "cell_type": "markdown",
      "metadata": {
        "id": "qwp5XfII381W"
      },
      "source": [
        "## Step 2: Configure HBR inputs: covariates, measures and batch effects"
      ]
    },
    {
      "cell_type": "markdown",
      "metadata": {
        "id": "NnIR5Sqq381W"
      },
      "source": [
        "We will here only use the mean cortical thickness for the Right and Left hemisphere: two idps.\n"
      ]
    },
    {
      "cell_type": "code",
      "execution_count": 5,
      "metadata": {
        "id": "4_EqQFOe381W"
      },
      "outputs": [],
      "source": [
        "idps = ['rh_MeanThickness_thickness','lh_MeanThickness_thickness']"
      ]
    },
    {
      "cell_type": "markdown",
      "metadata": {
        "id": "wLu-CoUl381W"
      },
      "source": [
        "As input to the model, we need covariates (used to describe predictable source of variability (fixed effects), here 'age'), measures (here cortical thickness on two idps), and batch effects (random source of variability, here 'scanner site' and 'sex').\n",
        "\n",
        "`X` corresponds to the covariate(s) \n",
        "\n",
        "`Y` to the measure(s)\n",
        "\n",
        "`batch_effects` to the random effects\n",
        "\n",
        "We need these values both for the training (`_train`) and for the testing set (`_test`)."
      ]
    },
    {
      "cell_type": "code",
      "execution_count": 6,
      "metadata": {
        "id": "W2xf-Zc_381X"
      },
      "outputs": [],
      "source": [
        "X_train = (fcon_tr['age']/100).to_numpy(dtype=float)\n",
        "Y_train = fcon_tr[idps].to_numpy(dtype=float)\n",
        "batch_effects_train = fcon_tr[['sitenum','sex']].to_numpy(dtype=int)\n",
        "    \n",
        "with open('X_train.pkl', 'wb') as file:\n",
        "    pickle.dump(pd.DataFrame(X_train), file)\n",
        "with open('Y_train.pkl', 'wb') as file:\n",
        "    pickle.dump(pd.DataFrame(Y_train), file) \n",
        "with open('trbefile.pkl', 'wb') as file:\n",
        "    pickle.dump(pd.DataFrame(batch_effects_train), file) \n",
        "\n",
        "\n",
        "X_test = (fcon_te['age']/100).to_numpy(dtype=float)\n",
        "Y_test = fcon_te[idps].to_numpy(dtype=float)\n",
        "batch_effects_test = fcon_te[['sitenum','sex']].to_numpy(dtype=int)\n",
        "    \n",
        "with open('X_test.pkl', 'wb') as file:\n",
        "    pickle.dump(pd.DataFrame(X_test), file)\n",
        "with open('Y_test.pkl', 'wb') as file:\n",
        "    pickle.dump(pd.DataFrame(Y_test), file) \n",
        "with open('tsbefile.pkl', 'wb') as file:\n",
        "    pickle.dump(pd.DataFrame(batch_effects_test), file) \n",
        "\n",
        "# a simple function to quickly load pickle files    \n",
        "def ldpkl(filename: str): \n",
        "    with open(filename, 'rb') as f:\n",
        "        return pickle.load(f)"
      ]
    },
    {
      "cell_type": "markdown",
      "metadata": {
        "id": "6WYLCEmV381X"
      },
      "source": [
        "## Step 3: Files and Folders grooming"
      ]
    },
    {
      "cell_type": "code",
      "execution_count": 7,
      "metadata": {
        "id": "I18buNGh381X"
      },
      "outputs": [],
      "source": [
        "respfile = os.path.join(processing_dir, 'Y_train.pkl')       # measurements  (eg cortical thickness) of the training samples (columns: the various features/ROIs, rows: observations or subjects)\n",
        "covfile = os.path.join(processing_dir, 'X_train.pkl')        # covariates (eg age) the training samples (columns: covariates, rows: observations or subjects)\n",
        "\n",
        "testrespfile_path = os.path.join(processing_dir, 'Y_test.pkl')       # measurements  for the testing samples\n",
        "testcovfile_path = os.path.join(processing_dir, 'X_test.pkl')        # covariate file for the testing samples\n",
        "\n",
        "trbefile = os.path.join(processing_dir, 'trbefile.pkl')      # training batch effects file (eg scanner_id, gender)  (columns: the various batch effects, rows: observations or subjects)\n",
        "tsbefile = os.path.join(processing_dir, 'tsbefile.pkl')      # testing batch effects file\n",
        "\n",
        "output_path = os.path.join(processing_dir, 'Models/')    #  output path, where the models will be written\n",
        "log_dir = os.path.join(processing_dir, 'log/')           #\n",
        "if not os.path.isdir(output_path):\n",
        "    os.mkdir(output_path)\n",
        "if not os.path.isdir(log_dir):\n",
        "    os.mkdir(log_dir)\n",
        "\n",
        "outputsuffix = '_estimate'      # a string to name the output files, of use only to you, so adapt it for your needs."
      ]
    },
    {
      "cell_type": "markdown",
      "source": [
        "## Notes\n",
        "* tr and te for training and testing is a bit unintuitive... could be trainbefile.pkl and testbefile.pkl\n",
        "* The link to the used dataset does not point directly to the dataset used (FCON1000)"
      ],
      "metadata": {
        "id": "BPcilopi0v8O"
      }
    },
    {
      "cell_type": "markdown",
      "metadata": {
        "id": "wykFbsV_381Y"
      },
      "source": [
        "## Step 4: Estimating the models"
      ]
    },
    {
      "cell_type": "markdown",
      "metadata": {
        "id": "HvcGW4vK381Y"
      },
      "source": [
        "Now we have everything ready to estimate the normative models. The `estimate` function only needs the training and testing sets, each divided in three datasets: covariates, measures and batch effects. We obviously specify `alg=hbr` to use the hierarchical bayesian regression method, well suited for the multi sites datasets. The remaining arguments are basic data management: where the models, logs, and output files will be written and how they will be named."
      ]
    },
    {
      "cell_type": "code",
      "execution_count": 8,
      "metadata": {
        "colab": {
          "base_uri": "https://localhost:8080/",
          "height": 536
        },
        "id": "fEYt38W9381Y",
        "outputId": "8cfb7ee8-2c63-4e9e-a730-c48df5d7d59e"
      },
      "outputs": [
        {
          "output_type": "stream",
          "name": "stdout",
          "text": [
            "Processing data in /content/HBR_demo/Y_train.pkl\n",
            "Estimating model  1 of 2\n"
          ]
        },
        {
          "output_type": "stream",
          "name": "stderr",
          "text": [
            "Auto-assigning NUTS sampler...\n",
            "Initializing NUTS using jitter+adapt_diag...\n",
            "WARNING (theano.tensor.blas): We did not find a dynamic library in the library_dir of the library we use for blas. If you use ATLAS, make sure to compile it with dynamics library.\n",
            "WARNING (theano.tensor.blas): We did not find a dynamic library in the library_dir of the library we use for blas. If you use ATLAS, make sure to compile it with dynamics library.\n",
            "Sequential sampling (1 chains in 1 job)\n",
            "NUTS: [log_sigma_noise, slopes_offset, intercepts_offset, log_sigma_prior_slope, mu_prior_slope, log_sigma_prior_intercept, mu_prior_intercept]\n"
          ]
        },
        {
          "output_type": "display_data",
          "data": {
            "text/plain": [
              "<IPython.core.display.HTML object>"
            ],
            "text/html": [
              "\n",
              "<style>\n",
              "    /* Turns off some styling */\n",
              "    progress {\n",
              "        /* gets rid of default border in Firefox and Opera. */\n",
              "        border: none;\n",
              "        /* Needs to be in here for Safari polyfill so background images work as expected. */\n",
              "        background-size: auto;\n",
              "    }\n",
              "    .progress-bar-interrupted, .progress-bar-interrupted::-webkit-progress-bar {\n",
              "        background: #F44336;\n",
              "    }\n",
              "</style>\n"
            ]
          },
          "metadata": {}
        },
        {
          "output_type": "display_data",
          "data": {
            "text/plain": [
              "<IPython.core.display.HTML object>"
            ],
            "text/html": [
              "\n",
              "    <div>\n",
              "      <progress value='1500' class='' max='1500' style='width:300px; height:20px; vertical-align: middle;'></progress>\n",
              "      100.00% [1500/1500 05:51<00:00 Sampling chain 0, 66 divergences]\n",
              "    </div>\n",
              "    "
            ]
          },
          "metadata": {}
        },
        {
          "output_type": "stream",
          "name": "stderr",
          "text": [
            "Sampling 1 chain for 500 tune and 1_000 draw iterations (500 + 1_000 draws total) took 352 seconds.\n",
            "There were 66 divergences after tuning. Increase `target_accept` or reparameterize.\n",
            "The acceptance probability does not match the target. It is 0.8920868813206247, but should be close to 0.8. Try to increase the number of tuning steps.\n",
            "Only one chain was sampled, this makes it impossible to run some convergence checks\n"
          ]
        },
        {
          "output_type": "display_data",
          "data": {
            "text/plain": [
              "<IPython.core.display.HTML object>"
            ],
            "text/html": [
              "\n",
              "<style>\n",
              "    /* Turns off some styling */\n",
              "    progress {\n",
              "        /* gets rid of default border in Firefox and Opera. */\n",
              "        border: none;\n",
              "        /* Needs to be in here for Safari polyfill so background images work as expected. */\n",
              "        background-size: auto;\n",
              "    }\n",
              "    .progress-bar-interrupted, .progress-bar-interrupted::-webkit-progress-bar {\n",
              "        background: #F44336;\n",
              "    }\n",
              "</style>\n"
            ]
          },
          "metadata": {}
        },
        {
          "output_type": "display_data",
          "data": {
            "text/plain": [
              "<IPython.core.display.HTML object>"
            ],
            "text/html": [
              "\n",
              "    <div>\n",
              "      <progress value='1000' class='' max='1000' style='width:300px; height:20px; vertical-align: middle;'></progress>\n",
              "      100.00% [1000/1000 00:38<00:00]\n",
              "    </div>\n",
              "    "
            ]
          },
          "metadata": {}
        },
        {
          "output_type": "stream",
          "name": "stdout",
          "text": [
            "Estimating model  2 of 2\n"
          ]
        },
        {
          "output_type": "stream",
          "name": "stderr",
          "text": [
            "Auto-assigning NUTS sampler...\n",
            "Initializing NUTS using jitter+adapt_diag...\n",
            "Sequential sampling (1 chains in 1 job)\n",
            "NUTS: [log_sigma_noise, slopes_offset, intercepts_offset, log_sigma_prior_slope, mu_prior_slope, log_sigma_prior_intercept, mu_prior_intercept]\n"
          ]
        },
        {
          "output_type": "display_data",
          "data": {
            "text/plain": [
              "<IPython.core.display.HTML object>"
            ],
            "text/html": [
              "\n",
              "<style>\n",
              "    /* Turns off some styling */\n",
              "    progress {\n",
              "        /* gets rid of default border in Firefox and Opera. */\n",
              "        border: none;\n",
              "        /* Needs to be in here for Safari polyfill so background images work as expected. */\n",
              "        background-size: auto;\n",
              "    }\n",
              "    .progress-bar-interrupted, .progress-bar-interrupted::-webkit-progress-bar {\n",
              "        background: #F44336;\n",
              "    }\n",
              "</style>\n"
            ]
          },
          "metadata": {}
        },
        {
          "output_type": "display_data",
          "data": {
            "text/plain": [
              "<IPython.core.display.HTML object>"
            ],
            "text/html": [
              "\n",
              "    <div>\n",
              "      <progress value='1500' class='' max='1500' style='width:300px; height:20px; vertical-align: middle;'></progress>\n",
              "      100.00% [1500/1500 04:37<00:00 Sampling chain 0, 135 divergences]\n",
              "    </div>\n",
              "    "
            ]
          },
          "metadata": {}
        },
        {
          "output_type": "stream",
          "name": "stderr",
          "text": [
            "Sampling 1 chain for 500 tune and 1_000 draw iterations (500 + 1_000 draws total) took 277 seconds.\n",
            "There were 135 divergences after tuning. Increase `target_accept` or reparameterize.\n",
            "Only one chain was sampled, this makes it impossible to run some convergence checks\n"
          ]
        },
        {
          "output_type": "display_data",
          "data": {
            "text/plain": [
              "<IPython.core.display.HTML object>"
            ],
            "text/html": [
              "\n",
              "<style>\n",
              "    /* Turns off some styling */\n",
              "    progress {\n",
              "        /* gets rid of default border in Firefox and Opera. */\n",
              "        border: none;\n",
              "        /* Needs to be in here for Safari polyfill so background images work as expected. */\n",
              "        background-size: auto;\n",
              "    }\n",
              "    .progress-bar-interrupted, .progress-bar-interrupted::-webkit-progress-bar {\n",
              "        background: #F44336;\n",
              "    }\n",
              "</style>\n"
            ]
          },
          "metadata": {}
        },
        {
          "output_type": "display_data",
          "data": {
            "text/plain": [
              "<IPython.core.display.HTML object>"
            ],
            "text/html": [
              "\n",
              "    <div>\n",
              "      <progress value='1000' class='' max='1000' style='width:300px; height:20px; vertical-align: middle;'></progress>\n",
              "      100.00% [1000/1000 00:36<00:00]\n",
              "    </div>\n",
              "    "
            ]
          },
          "metadata": {}
        },
        {
          "output_type": "stream",
          "name": "stdout",
          "text": [
            "Saving model meta-data...\n",
            "Evaluating the model ...\n",
            "Writing outputs ...\n"
          ]
        }
      ],
      "source": [
        "ptk.normative.estimate(covfile=covfile, \n",
        "                       respfile=respfile,\n",
        "                       tsbefile=tsbefile, \n",
        "                       trbefile=trbefile, \n",
        "                       alg='hbr', \n",
        "                       log_path=log_dir, \n",
        "                       binary=True,\n",
        "                       output_path=output_path, testcov= testcovfile_path,\n",
        "                       testresp = testrespfile_path,\n",
        "                       outputsuffix=outputsuffix, savemodel=True)"
      ]
    },
    {
      "cell_type": "markdown",
      "metadata": {
        "id": "cu4Umis3381Z"
      },
      "source": [
        "Here some analyses can be done, there are also some error metrics that could be of interest. This is covered in step 6 and in [Saige's tutorial](https://github.com/predictive-clinical-neuroscience/PCNtoolkit-demo/blob/main/tutorials/BLR_protocol/BLR_normativemodel_protocol.ipynb) on Normative Modelling."
      ]
    },
    {
      "cell_type": "markdown",
      "source": [
        "## Info from this first normative.estimate use:\n",
        "* It ran (was executed) for a total of 15 minutes and 12 seconds"
      ],
      "metadata": {
        "id": "BlA17HOT0XJO"
      }
    },
    {
      "cell_type": "markdown",
      "metadata": {
        "id": "FyTrHWij381Z"
      },
      "source": [
        "## Step 5: Transfering the models to unseen sites"
      ]
    },
    {
      "cell_type": "markdown",
      "metadata": {
        "id": "ZRmYyQry381Z"
      },
      "source": [
        "Similarly to what was done before for the FCON data, we also need to prepare the ICBM specific data, in order to run the transfer function: training and testing set of covariates, measures and batch effects:"
      ]
    },
    {
      "cell_type": "code",
      "execution_count": 9,
      "metadata": {
        "id": "ujwfzth4381Z"
      },
      "outputs": [],
      "source": [
        "X_adapt = (icbm_tr['age']/100).to_numpy(dtype=float)\n",
        "Y_adapt = icbm_tr[idps].to_numpy(dtype=float)\n",
        "batch_effects_adapt = icbm_tr[['sitenum','sex']].to_numpy(dtype=int)\n",
        "    \n",
        "with open('X_adaptation.pkl', 'wb') as file:\n",
        "    pickle.dump(pd.DataFrame(X_adapt), file)\n",
        "with open('Y_adaptation.pkl', 'wb') as file:\n",
        "    pickle.dump(pd.DataFrame(Y_adapt), file) \n",
        "with open('adbefile.pkl', 'wb') as file:\n",
        "    pickle.dump(pd.DataFrame(batch_effects_adapt), file) \n",
        "\n",
        "# Test data (new dataset)\n",
        "X_test_txfr = (icbm_te['age']/100).to_numpy(dtype=float)\n",
        "Y_test_txfr = icbm_te[idps].to_numpy(dtype=float)\n",
        "batch_effects_test_txfr = icbm_te[['sitenum','sex']].to_numpy(dtype=int)\n",
        "    \n",
        "with open('X_test_txfr.pkl', 'wb') as file:\n",
        "    pickle.dump(pd.DataFrame(X_test_txfr), file)\n",
        "with open('Y_test_txfr.pkl', 'wb') as file:\n",
        "    pickle.dump(pd.DataFrame(Y_test_txfr), file) \n",
        "with open('txbefile.pkl', 'wb') as file:\n",
        "    pickle.dump(pd.DataFrame(batch_effects_test_txfr), file) \n"
      ]
    },
    {
      "cell_type": "code",
      "execution_count": 10,
      "metadata": {
        "id": "wqzmwQ0B381Z"
      },
      "outputs": [],
      "source": [
        "respfile = os.path.join(processing_dir, 'Y_adaptation.pkl')\n",
        "covfile = os.path.join(processing_dir, 'X_adaptation.pkl')\n",
        "testrespfile_path = os.path.join(processing_dir, 'Y_test_txfr.pkl')\n",
        "testcovfile_path = os.path.join(processing_dir, 'X_test_txfr.pkl')\n",
        "trbefile = os.path.join(processing_dir, 'adbefile.pkl')\n",
        "tsbefile = os.path.join(processing_dir, 'txbefile.pkl')\n",
        "\n",
        "log_dir = os.path.join(processing_dir, 'log_transfer/')\n",
        "output_path = os.path.join(processing_dir, 'Transfer/')\n",
        "model_path = os.path.join(processing_dir, 'Models/')  # path to the previously trained models\n",
        "outputsuffix = '_transfer'  # suffix added to the output files from the transfer function"
      ]
    },
    {
      "cell_type": "markdown",
      "metadata": {
        "id": "VlP1kyjj381a"
      },
      "source": [
        "Here, the difference is that the transfer function needs a model path, which points to the models we just trained, and new site data (training and testing). That is basically the only difference."
      ]
    },
    {
      "cell_type": "code",
      "execution_count": 11,
      "metadata": {
        "id": "hwpmdprx381a",
        "colab": {
          "base_uri": "https://localhost:8080/",
          "height": 443
        },
        "outputId": "7f468050-42a8-49b5-f2b3-d476f04dd116"
      },
      "outputs": [
        {
          "output_type": "stream",
          "name": "stdout",
          "text": [
            "Loading data ...\n",
            "Transferring model  1 of 2\n"
          ]
        },
        {
          "output_type": "stream",
          "name": "stderr",
          "text": [
            "Auto-assigning NUTS sampler...\n",
            "Initializing NUTS using jitter+adapt_diag...\n",
            "Sequential sampling (1 chains in 1 job)\n",
            "NUTS: [log_sigma_noise, slopes_offset, intercepts_offset, log_sigma_prior_slope, mu_prior_slope, log_sigma_prior_intercept, mu_prior_intercept]\n"
          ]
        },
        {
          "output_type": "display_data",
          "data": {
            "text/plain": [
              "<IPython.core.display.HTML object>"
            ],
            "text/html": [
              "\n",
              "<style>\n",
              "    /* Turns off some styling */\n",
              "    progress {\n",
              "        /* gets rid of default border in Firefox and Opera. */\n",
              "        border: none;\n",
              "        /* Needs to be in here for Safari polyfill so background images work as expected. */\n",
              "        background-size: auto;\n",
              "    }\n",
              "    .progress-bar-interrupted, .progress-bar-interrupted::-webkit-progress-bar {\n",
              "        background: #F44336;\n",
              "    }\n",
              "</style>\n"
            ]
          },
          "metadata": {}
        },
        {
          "output_type": "display_data",
          "data": {
            "text/plain": [
              "<IPython.core.display.HTML object>"
            ],
            "text/html": [
              "\n",
              "    <div>\n",
              "      <progress value='1500' class='' max='1500' style='width:300px; height:20px; vertical-align: middle;'></progress>\n",
              "      100.00% [1500/1500 00:14<00:00 Sampling chain 0, 18 divergences]\n",
              "    </div>\n",
              "    "
            ]
          },
          "metadata": {}
        },
        {
          "output_type": "stream",
          "name": "stderr",
          "text": [
            "Sampling 1 chain for 500 tune and 1_000 draw iterations (500 + 1_000 draws total) took 15 seconds.\n",
            "There were 18 divergences after tuning. Increase `target_accept` or reparameterize.\n",
            "Only one chain was sampled, this makes it impossible to run some convergence checks\n"
          ]
        },
        {
          "output_type": "display_data",
          "data": {
            "text/plain": [
              "<IPython.core.display.HTML object>"
            ],
            "text/html": [
              "\n",
              "<style>\n",
              "    /* Turns off some styling */\n",
              "    progress {\n",
              "        /* gets rid of default border in Firefox and Opera. */\n",
              "        border: none;\n",
              "        /* Needs to be in here for Safari polyfill so background images work as expected. */\n",
              "        background-size: auto;\n",
              "    }\n",
              "    .progress-bar-interrupted, .progress-bar-interrupted::-webkit-progress-bar {\n",
              "        background: #F44336;\n",
              "    }\n",
              "</style>\n"
            ]
          },
          "metadata": {}
        },
        {
          "output_type": "display_data",
          "data": {
            "text/plain": [
              "<IPython.core.display.HTML object>"
            ],
            "text/html": [
              "\n",
              "    <div>\n",
              "      <progress value='1000' class='' max='1000' style='width:300px; height:20px; vertical-align: middle;'></progress>\n",
              "      100.00% [1000/1000 00:13<00:00]\n",
              "    </div>\n",
              "    "
            ]
          },
          "metadata": {}
        },
        {
          "output_type": "stream",
          "name": "stdout",
          "text": [
            "Transferring model  2 of 2\n"
          ]
        },
        {
          "output_type": "stream",
          "name": "stderr",
          "text": [
            "Auto-assigning NUTS sampler...\n",
            "Initializing NUTS using jitter+adapt_diag...\n",
            "Sequential sampling (1 chains in 1 job)\n",
            "NUTS: [log_sigma_noise, slopes_offset, intercepts_offset, log_sigma_prior_slope, mu_prior_slope, log_sigma_prior_intercept, mu_prior_intercept]\n"
          ]
        },
        {
          "output_type": "display_data",
          "data": {
            "text/plain": [
              "<IPython.core.display.HTML object>"
            ],
            "text/html": [
              "\n",
              "<style>\n",
              "    /* Turns off some styling */\n",
              "    progress {\n",
              "        /* gets rid of default border in Firefox and Opera. */\n",
              "        border: none;\n",
              "        /* Needs to be in here for Safari polyfill so background images work as expected. */\n",
              "        background-size: auto;\n",
              "    }\n",
              "    .progress-bar-interrupted, .progress-bar-interrupted::-webkit-progress-bar {\n",
              "        background: #F44336;\n",
              "    }\n",
              "</style>\n"
            ]
          },
          "metadata": {}
        },
        {
          "output_type": "display_data",
          "data": {
            "text/plain": [
              "<IPython.core.display.HTML object>"
            ],
            "text/html": [
              "\n",
              "    <div>\n",
              "      <progress value='1500' class='' max='1500' style='width:300px; height:20px; vertical-align: middle;'></progress>\n",
              "      100.00% [1500/1500 00:14<00:00 Sampling chain 0, 15 divergences]\n",
              "    </div>\n",
              "    "
            ]
          },
          "metadata": {}
        },
        {
          "output_type": "stream",
          "name": "stderr",
          "text": [
            "Sampling 1 chain for 500 tune and 1_000 draw iterations (500 + 1_000 draws total) took 14 seconds.\n",
            "There were 15 divergences after tuning. Increase `target_accept` or reparameterize.\n",
            "Only one chain was sampled, this makes it impossible to run some convergence checks\n"
          ]
        },
        {
          "output_type": "display_data",
          "data": {
            "text/plain": [
              "<IPython.core.display.HTML object>"
            ],
            "text/html": [
              "\n",
              "<style>\n",
              "    /* Turns off some styling */\n",
              "    progress {\n",
              "        /* gets rid of default border in Firefox and Opera. */\n",
              "        border: none;\n",
              "        /* Needs to be in here for Safari polyfill so background images work as expected. */\n",
              "        background-size: auto;\n",
              "    }\n",
              "    .progress-bar-interrupted, .progress-bar-interrupted::-webkit-progress-bar {\n",
              "        background: #F44336;\n",
              "    }\n",
              "</style>\n"
            ]
          },
          "metadata": {}
        },
        {
          "output_type": "display_data",
          "data": {
            "text/plain": [
              "<IPython.core.display.HTML object>"
            ],
            "text/html": [
              "\n",
              "    <div>\n",
              "      <progress value='1000' class='' max='1000' style='width:300px; height:20px; vertical-align: middle;'></progress>\n",
              "      100.00% [1000/1000 00:14<00:00]\n",
              "    </div>\n",
              "    "
            ]
          },
          "metadata": {}
        },
        {
          "output_type": "stream",
          "name": "stdout",
          "text": [
            "Evaluating the model ...\n",
            "Writing outputs ...\n"
          ]
        }
      ],
      "source": [
        "yhat, s2, z_scores = ptk.normative.transfer(covfile=covfile, \n",
        "                                            respfile=respfile,\n",
        "                                            tsbefile=tsbefile, \n",
        "                                            trbefile=trbefile, \n",
        "                                            model_path = model_path,\n",
        "                                            alg='hbr', \n",
        "                                            log_path=log_dir, \n",
        "                                            binary=True,\n",
        "                                            output_path=output_path, \n",
        "                                            testcov= testcovfile_path,\n",
        "                                            testresp = testrespfile_path,\n",
        "                                            outputsuffix=outputsuffix, \n",
        "                                            savemodel=True)\n"
      ]
    },
    {
      "cell_type": "markdown",
      "metadata": {
        "id": "QBtsSlDG381a"
      },
      "source": [
        "And that is it, you now have models that benefited from prior knowledge about different scanner sites to learn on unseen sites."
      ]
    },
    {
      "cell_type": "markdown",
      "source": [
        "## Info on normative.transfer function used\n",
        "* It ran for 1 minute and 57 seconds to transfer the trained model on FCON data to ICBM unseen data"
      ],
      "metadata": {
        "id": "7jIJYDTz15_7"
      }
    },
    {
      "cell_type": "markdown",
      "metadata": {
        "id": "INPI9Tnt381a"
      },
      "source": [
        "## Step 6: Interpreting model performance"
      ]
    },
    {
      "cell_type": "markdown",
      "metadata": {
        "id": "eMCWLa3b381a"
      },
      "source": [
        "Output evaluation metrics definitions: \n",
        "* yhat - predictive mean\n",
        "* ys2 - predictive variance\n",
        "* nm - normative model\n",
        "* Z - deviance scores\n",
        "* Rho - Pearson correlation between true and predicted responses\n",
        "* pRho - parametric p-value for this correlation\n",
        "* RMSE - root mean squared error between true/predicted responses\n",
        "* SMSE - standardised mean squared error\n",
        "* EV - explained variance\n",
        "* MSLL - mean standardized log loss\n",
        "    * See page 23 in http://www.gaussianprocess.org/gpml/chapters/RW2.pdf"
      ]
    },
    {
      "cell_type": "code",
      "source": [
        "!pwd"
      ],
      "metadata": {
        "id": "QCkTsvIMUJBj",
        "outputId": "7c1a076e-9d03-4345-fcaf-1cf910513210",
        "colab": {
          "base_uri": "https://localhost:8080/"
        }
      },
      "execution_count": 13,
      "outputs": [
        {
          "output_type": "stream",
          "name": "stdout",
          "text": [
            "/content/HBR_demo\n"
          ]
        }
      ]
    },
    {
      "cell_type": "code",
      "execution_count": 14,
      "metadata": {
        "id": "ux4ZjZtj381b",
        "colab": {
          "base_uri": "https://localhost:8080/",
          "height": 424
        },
        "outputId": "a2043ea9-cde7-4841-8da2-480d60ae0f9a"
      },
      "outputs": [
        {
          "output_type": "execute_result",
          "data": {
            "text/plain": [
              "            0         1\n",
              "0    2.468524  2.514452\n",
              "1    2.367837  2.409825\n",
              "2    2.418524  2.465367\n",
              "3    2.445441  2.492478\n",
              "4    2.428093  2.474080\n",
              "..        ...       ...\n",
              "503  2.571058  2.583186\n",
              "504  2.529705  2.524351\n",
              "505  2.538754  2.534807\n",
              "506  2.527658  2.526143\n",
              "507  2.552322  2.553199\n",
              "\n",
              "[508 rows x 2 columns]"
            ],
            "text/html": [
              "\n",
              "  <div id=\"df-16b1a07b-5221-4293-8463-ce97dfe312f9\">\n",
              "    <div class=\"colab-df-container\">\n",
              "      <div>\n",
              "<style scoped>\n",
              "    .dataframe tbody tr th:only-of-type {\n",
              "        vertical-align: middle;\n",
              "    }\n",
              "\n",
              "    .dataframe tbody tr th {\n",
              "        vertical-align: top;\n",
              "    }\n",
              "\n",
              "    .dataframe thead th {\n",
              "        text-align: right;\n",
              "    }\n",
              "</style>\n",
              "<table border=\"1\" class=\"dataframe\">\n",
              "  <thead>\n",
              "    <tr style=\"text-align: right;\">\n",
              "      <th></th>\n",
              "      <th>0</th>\n",
              "      <th>1</th>\n",
              "    </tr>\n",
              "  </thead>\n",
              "  <tbody>\n",
              "    <tr>\n",
              "      <th>0</th>\n",
              "      <td>2.468524</td>\n",
              "      <td>2.514452</td>\n",
              "    </tr>\n",
              "    <tr>\n",
              "      <th>1</th>\n",
              "      <td>2.367837</td>\n",
              "      <td>2.409825</td>\n",
              "    </tr>\n",
              "    <tr>\n",
              "      <th>2</th>\n",
              "      <td>2.418524</td>\n",
              "      <td>2.465367</td>\n",
              "    </tr>\n",
              "    <tr>\n",
              "      <th>3</th>\n",
              "      <td>2.445441</td>\n",
              "      <td>2.492478</td>\n",
              "    </tr>\n",
              "    <tr>\n",
              "      <th>4</th>\n",
              "      <td>2.428093</td>\n",
              "      <td>2.474080</td>\n",
              "    </tr>\n",
              "    <tr>\n",
              "      <th>...</th>\n",
              "      <td>...</td>\n",
              "      <td>...</td>\n",
              "    </tr>\n",
              "    <tr>\n",
              "      <th>503</th>\n",
              "      <td>2.571058</td>\n",
              "      <td>2.583186</td>\n",
              "    </tr>\n",
              "    <tr>\n",
              "      <th>504</th>\n",
              "      <td>2.529705</td>\n",
              "      <td>2.524351</td>\n",
              "    </tr>\n",
              "    <tr>\n",
              "      <th>505</th>\n",
              "      <td>2.538754</td>\n",
              "      <td>2.534807</td>\n",
              "    </tr>\n",
              "    <tr>\n",
              "      <th>506</th>\n",
              "      <td>2.527658</td>\n",
              "      <td>2.526143</td>\n",
              "    </tr>\n",
              "    <tr>\n",
              "      <th>507</th>\n",
              "      <td>2.552322</td>\n",
              "      <td>2.553199</td>\n",
              "    </tr>\n",
              "  </tbody>\n",
              "</table>\n",
              "<p>508 rows × 2 columns</p>\n",
              "</div>\n",
              "      <button class=\"colab-df-convert\" onclick=\"convertToInteractive('df-16b1a07b-5221-4293-8463-ce97dfe312f9')\"\n",
              "              title=\"Convert this dataframe to an interactive table.\"\n",
              "              style=\"display:none;\">\n",
              "        \n",
              "  <svg xmlns=\"http://www.w3.org/2000/svg\" height=\"24px\"viewBox=\"0 0 24 24\"\n",
              "       width=\"24px\">\n",
              "    <path d=\"M0 0h24v24H0V0z\" fill=\"none\"/>\n",
              "    <path d=\"M18.56 5.44l.94 2.06.94-2.06 2.06-.94-2.06-.94-.94-2.06-.94 2.06-2.06.94zm-11 1L8.5 8.5l.94-2.06 2.06-.94-2.06-.94L8.5 2.5l-.94 2.06-2.06.94zm10 10l.94 2.06.94-2.06 2.06-.94-2.06-.94-.94-2.06-.94 2.06-2.06.94z\"/><path d=\"M17.41 7.96l-1.37-1.37c-.4-.4-.92-.59-1.43-.59-.52 0-1.04.2-1.43.59L10.3 9.45l-7.72 7.72c-.78.78-.78 2.05 0 2.83L4 21.41c.39.39.9.59 1.41.59.51 0 1.02-.2 1.41-.59l7.78-7.78 2.81-2.81c.8-.78.8-2.07 0-2.86zM5.41 20L4 18.59l7.72-7.72 1.47 1.35L5.41 20z\"/>\n",
              "  </svg>\n",
              "      </button>\n",
              "      \n",
              "  <style>\n",
              "    .colab-df-container {\n",
              "      display:flex;\n",
              "      flex-wrap:wrap;\n",
              "      gap: 12px;\n",
              "    }\n",
              "\n",
              "    .colab-df-convert {\n",
              "      background-color: #E8F0FE;\n",
              "      border: none;\n",
              "      border-radius: 50%;\n",
              "      cursor: pointer;\n",
              "      display: none;\n",
              "      fill: #1967D2;\n",
              "      height: 32px;\n",
              "      padding: 0 0 0 0;\n",
              "      width: 32px;\n",
              "    }\n",
              "\n",
              "    .colab-df-convert:hover {\n",
              "      background-color: #E2EBFA;\n",
              "      box-shadow: 0px 1px 2px rgba(60, 64, 67, 0.3), 0px 1px 3px 1px rgba(60, 64, 67, 0.15);\n",
              "      fill: #174EA6;\n",
              "    }\n",
              "\n",
              "    [theme=dark] .colab-df-convert {\n",
              "      background-color: #3B4455;\n",
              "      fill: #D2E3FC;\n",
              "    }\n",
              "\n",
              "    [theme=dark] .colab-df-convert:hover {\n",
              "      background-color: #434B5C;\n",
              "      box-shadow: 0px 1px 3px 1px rgba(0, 0, 0, 0.15);\n",
              "      filter: drop-shadow(0px 1px 2px rgba(0, 0, 0, 0.3));\n",
              "      fill: #FFFFFF;\n",
              "    }\n",
              "  </style>\n",
              "\n",
              "      <script>\n",
              "        const buttonEl =\n",
              "          document.querySelector('#df-16b1a07b-5221-4293-8463-ce97dfe312f9 button.colab-df-convert');\n",
              "        buttonEl.style.display =\n",
              "          google.colab.kernel.accessAllowed ? 'block' : 'none';\n",
              "\n",
              "        async function convertToInteractive(key) {\n",
              "          const element = document.querySelector('#df-16b1a07b-5221-4293-8463-ce97dfe312f9');\n",
              "          const dataTable =\n",
              "            await google.colab.kernel.invokeFunction('convertToInteractive',\n",
              "                                                     [key], {});\n",
              "          if (!dataTable) return;\n",
              "\n",
              "          const docLinkHtml = 'Like what you see? Visit the ' +\n",
              "            '<a target=\"_blank\" href=https://colab.research.google.com/notebooks/data_table.ipynb>data table notebook</a>'\n",
              "            + ' to learn more about interactive tables.';\n",
              "          element.innerHTML = '';\n",
              "          dataTable['output_type'] = 'display_data';\n",
              "          await google.colab.output.renderOutput(dataTable, element);\n",
              "          const docLink = document.createElement('div');\n",
              "          docLink.innerHTML = docLinkHtml;\n",
              "          element.appendChild(docLink);\n",
              "        }\n",
              "      </script>\n",
              "    </div>\n",
              "  </div>\n",
              "  "
            ]
          },
          "metadata": {},
          "execution_count": 14
        }
      ],
      "source": [
        "ldpkl('yhat_estimate.pkl')"
      ]
    },
    {
      "cell_type": "code",
      "source": [
        "ldpkl('yhat_transfer.pkl')"
      ],
      "metadata": {
        "id": "lfqsgKt4UlDp",
        "outputId": "2b43d69d-1d8c-4a7a-f7d7-850cb800e57e",
        "colab": {
          "base_uri": "https://localhost:8080/",
          "height": 1000
        }
      },
      "execution_count": 17,
      "outputs": [
        {
          "output_type": "execute_result",
          "data": {
            "text/plain": [
              "           0         1\n",
              "0   2.489970  2.481697\n",
              "1   2.565409  2.570723\n",
              "2   2.353029  2.346083\n",
              "3   2.548810  2.548092\n",
              "4   2.534938  2.542314\n",
              "5   2.482136  2.491256\n",
              "6   2.598362  2.602629\n",
              "7   2.396183  2.387559\n",
              "8   2.461880  2.457334\n",
              "9   2.445698  2.443284\n",
              "10  2.535906  2.539022\n",
              "11  2.591869  2.598282\n",
              "12  2.386248  2.376314\n",
              "13  2.397731  2.399459\n",
              "14  2.630178  2.630232\n",
              "15  2.471672  2.476640\n",
              "16  2.574294  2.570285\n",
              "17  2.339132  2.332302\n",
              "18  2.470403  2.475751\n",
              "19  2.508935  2.513821\n",
              "20  2.484056  2.478309\n",
              "21  2.457603  2.466048\n",
              "22  2.452998  2.434010\n",
              "23  2.464254  2.457492\n",
              "24  2.617193  2.615950\n",
              "25  2.509754  2.496887\n",
              "26  2.592248  2.591677\n",
              "27  2.480277  2.464964\n",
              "28  2.494702  2.482187\n",
              "29  2.357482  2.353075\n",
              "30  2.416048  2.416710\n",
              "31  2.630902  2.625544\n",
              "32  2.543723  2.545123\n",
              "33  2.345093  2.330780\n",
              "34  2.451097  2.441990\n",
              "35  2.436996  2.427086\n",
              "36  2.615682  2.608662\n",
              "37  2.484831  2.473745\n",
              "38  2.602794  2.596809\n",
              "39  2.413907  2.414980"
            ],
            "text/html": [
              "\n",
              "  <div id=\"df-99fa7db3-65ee-4f50-9c5d-56abcd398fb1\">\n",
              "    <div class=\"colab-df-container\">\n",
              "      <div>\n",
              "<style scoped>\n",
              "    .dataframe tbody tr th:only-of-type {\n",
              "        vertical-align: middle;\n",
              "    }\n",
              "\n",
              "    .dataframe tbody tr th {\n",
              "        vertical-align: top;\n",
              "    }\n",
              "\n",
              "    .dataframe thead th {\n",
              "        text-align: right;\n",
              "    }\n",
              "</style>\n",
              "<table border=\"1\" class=\"dataframe\">\n",
              "  <thead>\n",
              "    <tr style=\"text-align: right;\">\n",
              "      <th></th>\n",
              "      <th>0</th>\n",
              "      <th>1</th>\n",
              "    </tr>\n",
              "  </thead>\n",
              "  <tbody>\n",
              "    <tr>\n",
              "      <th>0</th>\n",
              "      <td>2.489970</td>\n",
              "      <td>2.481697</td>\n",
              "    </tr>\n",
              "    <tr>\n",
              "      <th>1</th>\n",
              "      <td>2.565409</td>\n",
              "      <td>2.570723</td>\n",
              "    </tr>\n",
              "    <tr>\n",
              "      <th>2</th>\n",
              "      <td>2.353029</td>\n",
              "      <td>2.346083</td>\n",
              "    </tr>\n",
              "    <tr>\n",
              "      <th>3</th>\n",
              "      <td>2.548810</td>\n",
              "      <td>2.548092</td>\n",
              "    </tr>\n",
              "    <tr>\n",
              "      <th>4</th>\n",
              "      <td>2.534938</td>\n",
              "      <td>2.542314</td>\n",
              "    </tr>\n",
              "    <tr>\n",
              "      <th>5</th>\n",
              "      <td>2.482136</td>\n",
              "      <td>2.491256</td>\n",
              "    </tr>\n",
              "    <tr>\n",
              "      <th>6</th>\n",
              "      <td>2.598362</td>\n",
              "      <td>2.602629</td>\n",
              "    </tr>\n",
              "    <tr>\n",
              "      <th>7</th>\n",
              "      <td>2.396183</td>\n",
              "      <td>2.387559</td>\n",
              "    </tr>\n",
              "    <tr>\n",
              "      <th>8</th>\n",
              "      <td>2.461880</td>\n",
              "      <td>2.457334</td>\n",
              "    </tr>\n",
              "    <tr>\n",
              "      <th>9</th>\n",
              "      <td>2.445698</td>\n",
              "      <td>2.443284</td>\n",
              "    </tr>\n",
              "    <tr>\n",
              "      <th>10</th>\n",
              "      <td>2.535906</td>\n",
              "      <td>2.539022</td>\n",
              "    </tr>\n",
              "    <tr>\n",
              "      <th>11</th>\n",
              "      <td>2.591869</td>\n",
              "      <td>2.598282</td>\n",
              "    </tr>\n",
              "    <tr>\n",
              "      <th>12</th>\n",
              "      <td>2.386248</td>\n",
              "      <td>2.376314</td>\n",
              "    </tr>\n",
              "    <tr>\n",
              "      <th>13</th>\n",
              "      <td>2.397731</td>\n",
              "      <td>2.399459</td>\n",
              "    </tr>\n",
              "    <tr>\n",
              "      <th>14</th>\n",
              "      <td>2.630178</td>\n",
              "      <td>2.630232</td>\n",
              "    </tr>\n",
              "    <tr>\n",
              "      <th>15</th>\n",
              "      <td>2.471672</td>\n",
              "      <td>2.476640</td>\n",
              "    </tr>\n",
              "    <tr>\n",
              "      <th>16</th>\n",
              "      <td>2.574294</td>\n",
              "      <td>2.570285</td>\n",
              "    </tr>\n",
              "    <tr>\n",
              "      <th>17</th>\n",
              "      <td>2.339132</td>\n",
              "      <td>2.332302</td>\n",
              "    </tr>\n",
              "    <tr>\n",
              "      <th>18</th>\n",
              "      <td>2.470403</td>\n",
              "      <td>2.475751</td>\n",
              "    </tr>\n",
              "    <tr>\n",
              "      <th>19</th>\n",
              "      <td>2.508935</td>\n",
              "      <td>2.513821</td>\n",
              "    </tr>\n",
              "    <tr>\n",
              "      <th>20</th>\n",
              "      <td>2.484056</td>\n",
              "      <td>2.478309</td>\n",
              "    </tr>\n",
              "    <tr>\n",
              "      <th>21</th>\n",
              "      <td>2.457603</td>\n",
              "      <td>2.466048</td>\n",
              "    </tr>\n",
              "    <tr>\n",
              "      <th>22</th>\n",
              "      <td>2.452998</td>\n",
              "      <td>2.434010</td>\n",
              "    </tr>\n",
              "    <tr>\n",
              "      <th>23</th>\n",
              "      <td>2.464254</td>\n",
              "      <td>2.457492</td>\n",
              "    </tr>\n",
              "    <tr>\n",
              "      <th>24</th>\n",
              "      <td>2.617193</td>\n",
              "      <td>2.615950</td>\n",
              "    </tr>\n",
              "    <tr>\n",
              "      <th>25</th>\n",
              "      <td>2.509754</td>\n",
              "      <td>2.496887</td>\n",
              "    </tr>\n",
              "    <tr>\n",
              "      <th>26</th>\n",
              "      <td>2.592248</td>\n",
              "      <td>2.591677</td>\n",
              "    </tr>\n",
              "    <tr>\n",
              "      <th>27</th>\n",
              "      <td>2.480277</td>\n",
              "      <td>2.464964</td>\n",
              "    </tr>\n",
              "    <tr>\n",
              "      <th>28</th>\n",
              "      <td>2.494702</td>\n",
              "      <td>2.482187</td>\n",
              "    </tr>\n",
              "    <tr>\n",
              "      <th>29</th>\n",
              "      <td>2.357482</td>\n",
              "      <td>2.353075</td>\n",
              "    </tr>\n",
              "    <tr>\n",
              "      <th>30</th>\n",
              "      <td>2.416048</td>\n",
              "      <td>2.416710</td>\n",
              "    </tr>\n",
              "    <tr>\n",
              "      <th>31</th>\n",
              "      <td>2.630902</td>\n",
              "      <td>2.625544</td>\n",
              "    </tr>\n",
              "    <tr>\n",
              "      <th>32</th>\n",
              "      <td>2.543723</td>\n",
              "      <td>2.545123</td>\n",
              "    </tr>\n",
              "    <tr>\n",
              "      <th>33</th>\n",
              "      <td>2.345093</td>\n",
              "      <td>2.330780</td>\n",
              "    </tr>\n",
              "    <tr>\n",
              "      <th>34</th>\n",
              "      <td>2.451097</td>\n",
              "      <td>2.441990</td>\n",
              "    </tr>\n",
              "    <tr>\n",
              "      <th>35</th>\n",
              "      <td>2.436996</td>\n",
              "      <td>2.427086</td>\n",
              "    </tr>\n",
              "    <tr>\n",
              "      <th>36</th>\n",
              "      <td>2.615682</td>\n",
              "      <td>2.608662</td>\n",
              "    </tr>\n",
              "    <tr>\n",
              "      <th>37</th>\n",
              "      <td>2.484831</td>\n",
              "      <td>2.473745</td>\n",
              "    </tr>\n",
              "    <tr>\n",
              "      <th>38</th>\n",
              "      <td>2.602794</td>\n",
              "      <td>2.596809</td>\n",
              "    </tr>\n",
              "    <tr>\n",
              "      <th>39</th>\n",
              "      <td>2.413907</td>\n",
              "      <td>2.414980</td>\n",
              "    </tr>\n",
              "  </tbody>\n",
              "</table>\n",
              "</div>\n",
              "      <button class=\"colab-df-convert\" onclick=\"convertToInteractive('df-99fa7db3-65ee-4f50-9c5d-56abcd398fb1')\"\n",
              "              title=\"Convert this dataframe to an interactive table.\"\n",
              "              style=\"display:none;\">\n",
              "        \n",
              "  <svg xmlns=\"http://www.w3.org/2000/svg\" height=\"24px\"viewBox=\"0 0 24 24\"\n",
              "       width=\"24px\">\n",
              "    <path d=\"M0 0h24v24H0V0z\" fill=\"none\"/>\n",
              "    <path d=\"M18.56 5.44l.94 2.06.94-2.06 2.06-.94-2.06-.94-.94-2.06-.94 2.06-2.06.94zm-11 1L8.5 8.5l.94-2.06 2.06-.94-2.06-.94L8.5 2.5l-.94 2.06-2.06.94zm10 10l.94 2.06.94-2.06 2.06-.94-2.06-.94-.94-2.06-.94 2.06-2.06.94z\"/><path d=\"M17.41 7.96l-1.37-1.37c-.4-.4-.92-.59-1.43-.59-.52 0-1.04.2-1.43.59L10.3 9.45l-7.72 7.72c-.78.78-.78 2.05 0 2.83L4 21.41c.39.39.9.59 1.41.59.51 0 1.02-.2 1.41-.59l7.78-7.78 2.81-2.81c.8-.78.8-2.07 0-2.86zM5.41 20L4 18.59l7.72-7.72 1.47 1.35L5.41 20z\"/>\n",
              "  </svg>\n",
              "      </button>\n",
              "      \n",
              "  <style>\n",
              "    .colab-df-container {\n",
              "      display:flex;\n",
              "      flex-wrap:wrap;\n",
              "      gap: 12px;\n",
              "    }\n",
              "\n",
              "    .colab-df-convert {\n",
              "      background-color: #E8F0FE;\n",
              "      border: none;\n",
              "      border-radius: 50%;\n",
              "      cursor: pointer;\n",
              "      display: none;\n",
              "      fill: #1967D2;\n",
              "      height: 32px;\n",
              "      padding: 0 0 0 0;\n",
              "      width: 32px;\n",
              "    }\n",
              "\n",
              "    .colab-df-convert:hover {\n",
              "      background-color: #E2EBFA;\n",
              "      box-shadow: 0px 1px 2px rgba(60, 64, 67, 0.3), 0px 1px 3px 1px rgba(60, 64, 67, 0.15);\n",
              "      fill: #174EA6;\n",
              "    }\n",
              "\n",
              "    [theme=dark] .colab-df-convert {\n",
              "      background-color: #3B4455;\n",
              "      fill: #D2E3FC;\n",
              "    }\n",
              "\n",
              "    [theme=dark] .colab-df-convert:hover {\n",
              "      background-color: #434B5C;\n",
              "      box-shadow: 0px 1px 3px 1px rgba(0, 0, 0, 0.15);\n",
              "      filter: drop-shadow(0px 1px 2px rgba(0, 0, 0, 0.3));\n",
              "      fill: #FFFFFF;\n",
              "    }\n",
              "  </style>\n",
              "\n",
              "      <script>\n",
              "        const buttonEl =\n",
              "          document.querySelector('#df-99fa7db3-65ee-4f50-9c5d-56abcd398fb1 button.colab-df-convert');\n",
              "        buttonEl.style.display =\n",
              "          google.colab.kernel.accessAllowed ? 'block' : 'none';\n",
              "\n",
              "        async function convertToInteractive(key) {\n",
              "          const element = document.querySelector('#df-99fa7db3-65ee-4f50-9c5d-56abcd398fb1');\n",
              "          const dataTable =\n",
              "            await google.colab.kernel.invokeFunction('convertToInteractive',\n",
              "                                                     [key], {});\n",
              "          if (!dataTable) return;\n",
              "\n",
              "          const docLinkHtml = 'Like what you see? Visit the ' +\n",
              "            '<a target=\"_blank\" href=https://colab.research.google.com/notebooks/data_table.ipynb>data table notebook</a>'\n",
              "            + ' to learn more about interactive tables.';\n",
              "          element.innerHTML = '';\n",
              "          dataTable['output_type'] = 'display_data';\n",
              "          await google.colab.output.renderOutput(dataTable, element);\n",
              "          const docLink = document.createElement('div');\n",
              "          docLink.innerHTML = docLinkHtml;\n",
              "          element.appendChild(docLink);\n",
              "        }\n",
              "      </script>\n",
              "    </div>\n",
              "  </div>\n",
              "  "
            ]
          },
          "metadata": {},
          "execution_count": 17
        }
      ]
    },
    {
      "cell_type": "code",
      "source": [
        "ldpkl('ys2_estimate.pkl')"
      ],
      "metadata": {
        "id": "E3taaWYgURRf",
        "outputId": "74132cbc-5b4d-4954-f20a-a725315a4df2",
        "colab": {
          "base_uri": "https://localhost:8080/",
          "height": 424
        }
      },
      "execution_count": 16,
      "outputs": [
        {
          "output_type": "execute_result",
          "data": {
            "text/plain": [
              "            0         1\n",
              "0    0.007652  0.005219\n",
              "1    0.008829  0.005547\n",
              "2    0.008462  0.006033\n",
              "3    0.009552  0.005265\n",
              "4    0.008247  0.005056\n",
              "..        ...       ...\n",
              "503  0.012115  0.007211\n",
              "504  0.005892  0.006408\n",
              "505  0.005637  0.007247\n",
              "506  0.005384  0.007721\n",
              "507  0.005736  0.006982\n",
              "\n",
              "[508 rows x 2 columns]"
            ],
            "text/html": [
              "\n",
              "  <div id=\"df-c4b50a03-ccf4-4a45-9e0f-18259f902f56\">\n",
              "    <div class=\"colab-df-container\">\n",
              "      <div>\n",
              "<style scoped>\n",
              "    .dataframe tbody tr th:only-of-type {\n",
              "        vertical-align: middle;\n",
              "    }\n",
              "\n",
              "    .dataframe tbody tr th {\n",
              "        vertical-align: top;\n",
              "    }\n",
              "\n",
              "    .dataframe thead th {\n",
              "        text-align: right;\n",
              "    }\n",
              "</style>\n",
              "<table border=\"1\" class=\"dataframe\">\n",
              "  <thead>\n",
              "    <tr style=\"text-align: right;\">\n",
              "      <th></th>\n",
              "      <th>0</th>\n",
              "      <th>1</th>\n",
              "    </tr>\n",
              "  </thead>\n",
              "  <tbody>\n",
              "    <tr>\n",
              "      <th>0</th>\n",
              "      <td>0.007652</td>\n",
              "      <td>0.005219</td>\n",
              "    </tr>\n",
              "    <tr>\n",
              "      <th>1</th>\n",
              "      <td>0.008829</td>\n",
              "      <td>0.005547</td>\n",
              "    </tr>\n",
              "    <tr>\n",
              "      <th>2</th>\n",
              "      <td>0.008462</td>\n",
              "      <td>0.006033</td>\n",
              "    </tr>\n",
              "    <tr>\n",
              "      <th>3</th>\n",
              "      <td>0.009552</td>\n",
              "      <td>0.005265</td>\n",
              "    </tr>\n",
              "    <tr>\n",
              "      <th>4</th>\n",
              "      <td>0.008247</td>\n",
              "      <td>0.005056</td>\n",
              "    </tr>\n",
              "    <tr>\n",
              "      <th>...</th>\n",
              "      <td>...</td>\n",
              "      <td>...</td>\n",
              "    </tr>\n",
              "    <tr>\n",
              "      <th>503</th>\n",
              "      <td>0.012115</td>\n",
              "      <td>0.007211</td>\n",
              "    </tr>\n",
              "    <tr>\n",
              "      <th>504</th>\n",
              "      <td>0.005892</td>\n",
              "      <td>0.006408</td>\n",
              "    </tr>\n",
              "    <tr>\n",
              "      <th>505</th>\n",
              "      <td>0.005637</td>\n",
              "      <td>0.007247</td>\n",
              "    </tr>\n",
              "    <tr>\n",
              "      <th>506</th>\n",
              "      <td>0.005384</td>\n",
              "      <td>0.007721</td>\n",
              "    </tr>\n",
              "    <tr>\n",
              "      <th>507</th>\n",
              "      <td>0.005736</td>\n",
              "      <td>0.006982</td>\n",
              "    </tr>\n",
              "  </tbody>\n",
              "</table>\n",
              "<p>508 rows × 2 columns</p>\n",
              "</div>\n",
              "      <button class=\"colab-df-convert\" onclick=\"convertToInteractive('df-c4b50a03-ccf4-4a45-9e0f-18259f902f56')\"\n",
              "              title=\"Convert this dataframe to an interactive table.\"\n",
              "              style=\"display:none;\">\n",
              "        \n",
              "  <svg xmlns=\"http://www.w3.org/2000/svg\" height=\"24px\"viewBox=\"0 0 24 24\"\n",
              "       width=\"24px\">\n",
              "    <path d=\"M0 0h24v24H0V0z\" fill=\"none\"/>\n",
              "    <path d=\"M18.56 5.44l.94 2.06.94-2.06 2.06-.94-2.06-.94-.94-2.06-.94 2.06-2.06.94zm-11 1L8.5 8.5l.94-2.06 2.06-.94-2.06-.94L8.5 2.5l-.94 2.06-2.06.94zm10 10l.94 2.06.94-2.06 2.06-.94-2.06-.94-.94-2.06-.94 2.06-2.06.94z\"/><path d=\"M17.41 7.96l-1.37-1.37c-.4-.4-.92-.59-1.43-.59-.52 0-1.04.2-1.43.59L10.3 9.45l-7.72 7.72c-.78.78-.78 2.05 0 2.83L4 21.41c.39.39.9.59 1.41.59.51 0 1.02-.2 1.41-.59l7.78-7.78 2.81-2.81c.8-.78.8-2.07 0-2.86zM5.41 20L4 18.59l7.72-7.72 1.47 1.35L5.41 20z\"/>\n",
              "  </svg>\n",
              "      </button>\n",
              "      \n",
              "  <style>\n",
              "    .colab-df-container {\n",
              "      display:flex;\n",
              "      flex-wrap:wrap;\n",
              "      gap: 12px;\n",
              "    }\n",
              "\n",
              "    .colab-df-convert {\n",
              "      background-color: #E8F0FE;\n",
              "      border: none;\n",
              "      border-radius: 50%;\n",
              "      cursor: pointer;\n",
              "      display: none;\n",
              "      fill: #1967D2;\n",
              "      height: 32px;\n",
              "      padding: 0 0 0 0;\n",
              "      width: 32px;\n",
              "    }\n",
              "\n",
              "    .colab-df-convert:hover {\n",
              "      background-color: #E2EBFA;\n",
              "      box-shadow: 0px 1px 2px rgba(60, 64, 67, 0.3), 0px 1px 3px 1px rgba(60, 64, 67, 0.15);\n",
              "      fill: #174EA6;\n",
              "    }\n",
              "\n",
              "    [theme=dark] .colab-df-convert {\n",
              "      background-color: #3B4455;\n",
              "      fill: #D2E3FC;\n",
              "    }\n",
              "\n",
              "    [theme=dark] .colab-df-convert:hover {\n",
              "      background-color: #434B5C;\n",
              "      box-shadow: 0px 1px 3px 1px rgba(0, 0, 0, 0.15);\n",
              "      filter: drop-shadow(0px 1px 2px rgba(0, 0, 0, 0.3));\n",
              "      fill: #FFFFFF;\n",
              "    }\n",
              "  </style>\n",
              "\n",
              "      <script>\n",
              "        const buttonEl =\n",
              "          document.querySelector('#df-c4b50a03-ccf4-4a45-9e0f-18259f902f56 button.colab-df-convert');\n",
              "        buttonEl.style.display =\n",
              "          google.colab.kernel.accessAllowed ? 'block' : 'none';\n",
              "\n",
              "        async function convertToInteractive(key) {\n",
              "          const element = document.querySelector('#df-c4b50a03-ccf4-4a45-9e0f-18259f902f56');\n",
              "          const dataTable =\n",
              "            await google.colab.kernel.invokeFunction('convertToInteractive',\n",
              "                                                     [key], {});\n",
              "          if (!dataTable) return;\n",
              "\n",
              "          const docLinkHtml = 'Like what you see? Visit the ' +\n",
              "            '<a target=\"_blank\" href=https://colab.research.google.com/notebooks/data_table.ipynb>data table notebook</a>'\n",
              "            + ' to learn more about interactive tables.';\n",
              "          element.innerHTML = '';\n",
              "          dataTable['output_type'] = 'display_data';\n",
              "          await google.colab.output.renderOutput(dataTable, element);\n",
              "          const docLink = document.createElement('div');\n",
              "          docLink.innerHTML = docLinkHtml;\n",
              "          element.appendChild(docLink);\n",
              "        }\n",
              "      </script>\n",
              "    </div>\n",
              "  </div>\n",
              "  "
            ]
          },
          "metadata": {},
          "execution_count": 16
        }
      ]
    },
    {
      "cell_type": "code",
      "source": [
        "ldpkl('Z_estimate.pkl')"
      ],
      "metadata": {
        "id": "YZhurxLDUvnl",
        "outputId": "4e17f0f8-c025-4830-f852-607d7dfdc0db",
        "colab": {
          "base_uri": "https://localhost:8080/",
          "height": 424
        }
      },
      "execution_count": 18,
      "outputs": [
        {
          "output_type": "execute_result",
          "data": {
            "text/plain": [
              "            0         1\n",
              "0    0.872288  0.154179\n",
              "1    0.599416  1.495596\n",
              "2   -0.180830  0.438537\n",
              "3   -0.533181 -0.994980\n",
              "4    1.806559  1.570146\n",
              "..        ...       ...\n",
              "503  0.265766  0.156438\n",
              "504  0.490797  0.894912\n",
              "505  1.536233  1.484837\n",
              "506  2.092469  1.763284\n",
              "507 -2.524655 -2.193655\n",
              "\n",
              "[508 rows x 2 columns]"
            ],
            "text/html": [
              "\n",
              "  <div id=\"df-50a5c5bb-f2f5-4c4f-b77b-d5f82cde2d82\">\n",
              "    <div class=\"colab-df-container\">\n",
              "      <div>\n",
              "<style scoped>\n",
              "    .dataframe tbody tr th:only-of-type {\n",
              "        vertical-align: middle;\n",
              "    }\n",
              "\n",
              "    .dataframe tbody tr th {\n",
              "        vertical-align: top;\n",
              "    }\n",
              "\n",
              "    .dataframe thead th {\n",
              "        text-align: right;\n",
              "    }\n",
              "</style>\n",
              "<table border=\"1\" class=\"dataframe\">\n",
              "  <thead>\n",
              "    <tr style=\"text-align: right;\">\n",
              "      <th></th>\n",
              "      <th>0</th>\n",
              "      <th>1</th>\n",
              "    </tr>\n",
              "  </thead>\n",
              "  <tbody>\n",
              "    <tr>\n",
              "      <th>0</th>\n",
              "      <td>0.872288</td>\n",
              "      <td>0.154179</td>\n",
              "    </tr>\n",
              "    <tr>\n",
              "      <th>1</th>\n",
              "      <td>0.599416</td>\n",
              "      <td>1.495596</td>\n",
              "    </tr>\n",
              "    <tr>\n",
              "      <th>2</th>\n",
              "      <td>-0.180830</td>\n",
              "      <td>0.438537</td>\n",
              "    </tr>\n",
              "    <tr>\n",
              "      <th>3</th>\n",
              "      <td>-0.533181</td>\n",
              "      <td>-0.994980</td>\n",
              "    </tr>\n",
              "    <tr>\n",
              "      <th>4</th>\n",
              "      <td>1.806559</td>\n",
              "      <td>1.570146</td>\n",
              "    </tr>\n",
              "    <tr>\n",
              "      <th>...</th>\n",
              "      <td>...</td>\n",
              "      <td>...</td>\n",
              "    </tr>\n",
              "    <tr>\n",
              "      <th>503</th>\n",
              "      <td>0.265766</td>\n",
              "      <td>0.156438</td>\n",
              "    </tr>\n",
              "    <tr>\n",
              "      <th>504</th>\n",
              "      <td>0.490797</td>\n",
              "      <td>0.894912</td>\n",
              "    </tr>\n",
              "    <tr>\n",
              "      <th>505</th>\n",
              "      <td>1.536233</td>\n",
              "      <td>1.484837</td>\n",
              "    </tr>\n",
              "    <tr>\n",
              "      <th>506</th>\n",
              "      <td>2.092469</td>\n",
              "      <td>1.763284</td>\n",
              "    </tr>\n",
              "    <tr>\n",
              "      <th>507</th>\n",
              "      <td>-2.524655</td>\n",
              "      <td>-2.193655</td>\n",
              "    </tr>\n",
              "  </tbody>\n",
              "</table>\n",
              "<p>508 rows × 2 columns</p>\n",
              "</div>\n",
              "      <button class=\"colab-df-convert\" onclick=\"convertToInteractive('df-50a5c5bb-f2f5-4c4f-b77b-d5f82cde2d82')\"\n",
              "              title=\"Convert this dataframe to an interactive table.\"\n",
              "              style=\"display:none;\">\n",
              "        \n",
              "  <svg xmlns=\"http://www.w3.org/2000/svg\" height=\"24px\"viewBox=\"0 0 24 24\"\n",
              "       width=\"24px\">\n",
              "    <path d=\"M0 0h24v24H0V0z\" fill=\"none\"/>\n",
              "    <path d=\"M18.56 5.44l.94 2.06.94-2.06 2.06-.94-2.06-.94-.94-2.06-.94 2.06-2.06.94zm-11 1L8.5 8.5l.94-2.06 2.06-.94-2.06-.94L8.5 2.5l-.94 2.06-2.06.94zm10 10l.94 2.06.94-2.06 2.06-.94-2.06-.94-.94-2.06-.94 2.06-2.06.94z\"/><path d=\"M17.41 7.96l-1.37-1.37c-.4-.4-.92-.59-1.43-.59-.52 0-1.04.2-1.43.59L10.3 9.45l-7.72 7.72c-.78.78-.78 2.05 0 2.83L4 21.41c.39.39.9.59 1.41.59.51 0 1.02-.2 1.41-.59l7.78-7.78 2.81-2.81c.8-.78.8-2.07 0-2.86zM5.41 20L4 18.59l7.72-7.72 1.47 1.35L5.41 20z\"/>\n",
              "  </svg>\n",
              "      </button>\n",
              "      \n",
              "  <style>\n",
              "    .colab-df-container {\n",
              "      display:flex;\n",
              "      flex-wrap:wrap;\n",
              "      gap: 12px;\n",
              "    }\n",
              "\n",
              "    .colab-df-convert {\n",
              "      background-color: #E8F0FE;\n",
              "      border: none;\n",
              "      border-radius: 50%;\n",
              "      cursor: pointer;\n",
              "      display: none;\n",
              "      fill: #1967D2;\n",
              "      height: 32px;\n",
              "      padding: 0 0 0 0;\n",
              "      width: 32px;\n",
              "    }\n",
              "\n",
              "    .colab-df-convert:hover {\n",
              "      background-color: #E2EBFA;\n",
              "      box-shadow: 0px 1px 2px rgba(60, 64, 67, 0.3), 0px 1px 3px 1px rgba(60, 64, 67, 0.15);\n",
              "      fill: #174EA6;\n",
              "    }\n",
              "\n",
              "    [theme=dark] .colab-df-convert {\n",
              "      background-color: #3B4455;\n",
              "      fill: #D2E3FC;\n",
              "    }\n",
              "\n",
              "    [theme=dark] .colab-df-convert:hover {\n",
              "      background-color: #434B5C;\n",
              "      box-shadow: 0px 1px 3px 1px rgba(0, 0, 0, 0.15);\n",
              "      filter: drop-shadow(0px 1px 2px rgba(0, 0, 0, 0.3));\n",
              "      fill: #FFFFFF;\n",
              "    }\n",
              "  </style>\n",
              "\n",
              "      <script>\n",
              "        const buttonEl =\n",
              "          document.querySelector('#df-50a5c5bb-f2f5-4c4f-b77b-d5f82cde2d82 button.colab-df-convert');\n",
              "        buttonEl.style.display =\n",
              "          google.colab.kernel.accessAllowed ? 'block' : 'none';\n",
              "\n",
              "        async function convertToInteractive(key) {\n",
              "          const element = document.querySelector('#df-50a5c5bb-f2f5-4c4f-b77b-d5f82cde2d82');\n",
              "          const dataTable =\n",
              "            await google.colab.kernel.invokeFunction('convertToInteractive',\n",
              "                                                     [key], {});\n",
              "          if (!dataTable) return;\n",
              "\n",
              "          const docLinkHtml = 'Like what you see? Visit the ' +\n",
              "            '<a target=\"_blank\" href=https://colab.research.google.com/notebooks/data_table.ipynb>data table notebook</a>'\n",
              "            + ' to learn more about interactive tables.';\n",
              "          element.innerHTML = '';\n",
              "          dataTable['output_type'] = 'display_data';\n",
              "          await google.colab.output.renderOutput(dataTable, element);\n",
              "          const docLink = document.createElement('div');\n",
              "          docLink.innerHTML = docLinkHtml;\n",
              "          element.appendChild(docLink);\n",
              "        }\n",
              "      </script>\n",
              "    </div>\n",
              "  </div>\n",
              "  "
            ]
          },
          "metadata": {},
          "execution_count": 18
        }
      ]
    }
  ],
  "metadata": {
    "colab": {
      "name": "HBR_NormativeModel_FCONdata_Tutorial.ipynb",
      "provenance": []
    },
    "kernelspec": {
      "display_name": "Python 3",
      "language": "python",
      "name": "python3"
    },
    "language_info": {
      "codemirror_mode": {
        "name": "ipython",
        "version": 3
      },
      "file_extension": ".py",
      "mimetype": "text/x-python",
      "name": "python",
      "nbconvert_exporter": "python",
      "pygments_lexer": "ipython3",
      "version": "3.9.5"
    }
  },
  "nbformat": 4,
  "nbformat_minor": 0
}